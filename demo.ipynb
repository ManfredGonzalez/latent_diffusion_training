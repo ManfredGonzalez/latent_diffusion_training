{
  "cells": [
    {
      "cell_type": "code",
      "execution_count": 7,
      "metadata": {},
      "outputs": [],
      "source": [
        "import pipeline\n",
        "from PIL import Image\n",
        "import torch\n",
        "from model_loader import load_models\n",
        "import matplotlib.pyplot as plt\n",
        "import numpy as np\n",
        "from ddpm import DDPMSampler\n",
        "from tqdm import tqdm\n",
        "import torchvision"
      ]
    },
    {
      "cell_type": "code",
      "execution_count": 8,
      "metadata": {},
      "outputs": [],
      "source": [
        "def get_time_embedding(timesteps: torch.LongTensor, dim: int = 160):\n",
        "    if timesteps.dim() == 0:\n",
        "        timesteps = timesteps.unsqueeze(0)\n",
        "    device = timesteps.device\n",
        "    half_dim = dim\n",
        "    freqs = torch.pow(\n",
        "        10000,\n",
        "        -torch.arange(0, half_dim, dtype=torch.float32, device=device) / half_dim\n",
        "    )\n",
        "    args = timesteps.float().unsqueeze(1) * freqs.unsqueeze(0)\n",
        "    emb = torch.cat([torch.cos(args), torch.sin(args)], dim=-1)\n",
        "    return emb\n",
        "def sample_i(h, w, vae, diffusion_model, generator, epoch, global_step, device, seed,sigma_latent,num_image):\n",
        "    sampler_i = DDPMSampler(generator)\n",
        "    sampler_i.set_inference_timesteps(1000)\n",
        "    with torch.no_grad():\n",
        "        latents = torch.randn((1, 4, h // 8, w // 8), device=device)\n",
        "        for timestep in tqdm(sampler_i.timesteps, desc=\"Sampling\"):\n",
        "            t = torch.tensor([int(timestep)], dtype=torch.long, device=device)\n",
        "            time_embedding = get_time_embedding(t).to(device)\n",
        "            model_output = diffusion_model(latents, time_embedding)\n",
        "            latents = sampler_i.step(timestep, latents, model_output)\n",
        "        \n",
        "        latents = latents*sigma_latent\n",
        "        # Decode & log\n",
        "        decoded = vae.decoder(latents)\n",
        "        img = decoded.squeeze(0).cpu().numpy()\n",
        "        img = np.transpose(img, (1, 2, 0))\n",
        "        img = np.clip(img, 0.0, 1.0)\n",
        "        img = (img * 255).astype(np.uint8)\n",
        "        # convert to float in [0,1]\n",
        "        tensor = torch.from_numpy(img).permute(2,0,1).float().div(255.0)\n",
        "        torchvision.utils.save_image(tensor, f\"outputSCALED_{seed}_{num_image}.png\")\n",
        "    #return img"
      ]
    },
    {
      "cell_type": "code",
      "execution_count": 9,
      "metadata": {},
      "outputs": [
        {
          "name": "stderr",
          "output_type": "stream",
          "text": [
            "Sampling: 100%|██████████| 1000/1000 [01:13<00:00, 13.67it/s]\n",
            "Sampling: 100%|██████████| 1000/1000 [01:05<00:00, 15.27it/s]\n",
            "Sampling: 100%|██████████| 1000/1000 [01:05<00:00, 15.33it/s]\n",
            "Sampling: 100%|██████████| 1000/1000 [01:05<00:00, 15.35it/s]\n",
            "Sampling: 100%|██████████| 1000/1000 [01:04<00:00, 15.51it/s]\n",
            "Sampling: 100%|██████████| 1000/1000 [01:05<00:00, 15.35it/s]\n",
            "Sampling: 100%|██████████| 1000/1000 [01:05<00:00, 15.25it/s]\n",
            "Sampling: 100%|██████████| 1000/1000 [01:05<00:00, 15.18it/s]\n"
          ]
        }
      ],
      "source": [
        "from model_loader_conv import load_models\n",
        "DEVICE = \"cpu\"\n",
        "\n",
        "ALLOW_CUDA = True\n",
        "\n",
        "if torch.cuda.is_available() and ALLOW_CUDA:\n",
        "    DEVICE = \"cuda\"\n",
        "diffusion,vae = load_models(\"checkpoints\\diffusion/betaKL@1.0_conv_NU_constantLR_scaled/diffusion_best_epoch496_loss0.3401_1.pt\",\n",
        "                             \"checkpoints/vae/betaKL@1.0/weights_ck_398.pt\",\n",
        "                             DEVICE\n",
        "                             )\n",
        "vae.eval()\n",
        "diffusion.eval()\n",
        "seed = 0\n",
        "img_list = []\n",
        "generator = torch.Generator(device=DEVICE)\n",
        "generator.manual_seed(seed)\n",
        "for image_num in range(8):\n",
        "    sample_i(256, 256, vae, diffusion, generator, 0, 0, DEVICE, seed, 0.182473480701,image_num)\n",
        "    #img_list.append(img_numpy)"
      ]
    },
    {
      "cell_type": "code",
      "execution_count": null,
      "metadata": {},
      "outputs": [
        {
          "name": "stdout",
          "output_type": "stream",
          "text": [
            "Using device: cuda\n",
            "Number of parameters in diffusion model: 592281604\n"
          ]
        },
        {
          "name": "stderr",
          "output_type": "stream",
          "text": [
            "100%|██████████| 1000/1000 [00:39<00:00, 25.33it/s]\n",
            "100%|██████████| 1000/1000 [00:41<00:00, 23.89it/s]\n",
            "100%|██████████| 1000/1000 [00:51<00:00, 19.47it/s]\n"
          ]
        }
      ],
      "source": [
        "from model_loader_conv import load_models\n",
        "DEVICE = \"cpu\"\n",
        "\n",
        "ALLOW_CUDA = True\n",
        "ALLOW_MPS = False\n",
        "\n",
        "if torch.cuda.is_available() and ALLOW_CUDA:\n",
        "    DEVICE = \"cuda\"\n",
        "elif (torch.has_mps or torch.backends.mps.is_available()) and ALLOW_MPS:\n",
        "    DEVICE = \"mps\"\n",
        "print(f\"Using device: {DEVICE}\")\n",
        "\n",
        "diffusion,vae = load_models(\"checkpoints/diffusion/betaKL@1.0_conv/diffusion_best_epoch30_loss0.1464.pt\",\n",
        "                             \"checkpoints/vae/betaKL@1.0/weights_ck_398.pt\",\n",
        "                             DEVICE\n",
        "                             )\n",
        "# print the number of parameters in the model diffusion\n",
        "print(f\"Number of parameters in diffusion model: {sum(p.numel() for p in diffusion.parameters())}\")\n",
        "with torch.no_grad():\n",
        "    vae.eval()\n",
        "    diffusion.eval()\n",
        "\n",
        "\n",
        "    models = {'diffusion':diffusion, 'vae':vae}\n",
        "    ## SAMPLER\n",
        "\n",
        "    sampler = \"ddpm\"\n",
        "    num_inference_steps = 1000\n",
        "\n",
        "    seeds = [40,50,60]\n",
        "    for seed in seeds:\n",
        "        img = pipeline.generate(\n",
        "            sampler_name=sampler,\n",
        "            n_inference_steps=num_inference_steps,\n",
        "            seed=seed,\n",
        "            models=models,\n",
        "            device=DEVICE,\n",
        "            idle_device=\"cpu\"\n",
        "        )\n",
        "        # show it with PIL\n",
        "        img = Image.fromarray(img)\n",
        "        # savet it \n",
        "        img.save(f\"output_conv_{seed}_double_loss.png\")\n",
        "    \n",
        " "
      ]
    },
    {
      "cell_type": "code",
      "execution_count": null,
      "metadata": {},
      "outputs": [
        {
          "name": "stdout",
          "output_type": "stream",
          "text": [
            "Using device: cuda\n",
            "Number of parameters in diffusion model: 592281604\n"
          ]
        },
        {
          "name": "stderr",
          "output_type": "stream",
          "text": [
            "100%|██████████| 1000/1000 [00:41<00:00, 24.12it/s]\n"
          ]
        }
      ],
      "source": [
        "from model_loader_conv import load_models\n",
        "DEVICE = \"cpu\"\n",
        "\n",
        "ALLOW_CUDA = True\n",
        "ALLOW_MPS = False\n",
        "\n",
        "if torch.cuda.is_available() and ALLOW_CUDA:\n",
        "    DEVICE = \"cuda\"\n",
        "elif (torch.has_mps or torch.backends.mps.is_available()) and ALLOW_MPS:\n",
        "    DEVICE = \"mps\"\n",
        "print(f\"Using device: {DEVICE}\")\n",
        "\n",
        "diffusion,vae = load_models(\"checkpoints/diffusion/betaKL@0.5_conv/diffusion_best_epoch14_loss0.0694.pt\",\n",
        "                             \"checkpoints/vae/betaKL@0.5/weights_ck_398.pt\",\n",
        "                             DEVICE\n",
        "                             )\n",
        "# print the number of parameters in the model diffusion\n",
        "print(f\"Number of parameters in diffusion model: {sum(p.numel() for p in diffusion.parameters())}\")\n",
        "with torch.no_grad():\n",
        "    vae.eval()\n",
        "    diffusion.eval()\n",
        "\n",
        "\n",
        "    models = {'diffusion':diffusion, 'vae':vae}\n",
        "    ## SAMPLER\n",
        "\n",
        "    sampler = \"ddpm\"\n",
        "    num_inference_steps = 1000\n",
        "\n",
        "    seed = 30\n",
        "    \n",
        "    img = pipeline.generate(\n",
        "        sampler_name=sampler,\n",
        "        n_inference_steps=num_inference_steps,\n",
        "        seed=seed,\n",
        "        models=models,\n",
        "        device=DEVICE,\n",
        "        idle_device=\"cpu\"\n",
        "    )\n",
        "    # show it with PIL\n",
        "    img = Image.fromarray(img)\n",
        "    # savet it \n",
        "    img.save(f\"output_conv_{seed}_0.5VAE.png\")\n",
        "    \n",
        " "
      ]
    },
    {
      "cell_type": "code",
      "execution_count": null,
      "metadata": {},
      "outputs": [],
      "source": [
        "import pipeline\n",
        "from PIL import Image\n",
        "import torch\n",
        "from model_loader import load_models\n",
        "import matplotlib.pyplot as plt"
      ]
    }
  ],
  "metadata": {
    "accelerator": "GPU",
    "colab": {
      "collapsed_sections": [
        "iDI2dKfRWTId"
      ],
      "provenance": []
    },
    "gpuClass": "standard",
    "kernelspec": {
      "display_name": "ddpm_training",
      "language": "python",
      "name": "python3"
    },
    "language_info": {
      "codemirror_mode": {
        "name": "ipython",
        "version": 3
      },
      "file_extension": ".py",
      "mimetype": "text/x-python",
      "name": "python",
      "nbconvert_exporter": "python",
      "pygments_lexer": "ipython3",
      "version": "3.10.16"
    }
  },
  "nbformat": 4,
  "nbformat_minor": 0
}
